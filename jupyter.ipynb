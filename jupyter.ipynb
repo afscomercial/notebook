{
  "cells": [
    {
      "cell_type": "markdown",
      "metadata": {
        "id": "view-in-github",
        "colab_type": "text"
      },
      "source": [
        "<a href=\"https://colab.research.google.com/github/afscomercial/notebook/blob/main/jupyter.ipynb\" target=\"_parent\"><img src=\"https://colab.research.google.com/assets/colab-badge.svg\" alt=\"Open In Colab\"/></a>"
      ]
    },
    {
      "cell_type": "code",
      "execution_count": 2,
      "metadata": {
        "id": "oYQuxwOBC30i"
      },
      "outputs": [],
      "source": [
        "import os\n",
        "import zipfile"
      ]
    },
    {
      "cell_type": "code",
      "source": [
        "!wget --no-check-certificate https://storage.googleapis.com/platzi-tf2/databasesLoadData.zip -O /tmp/databasesLoadData.zip"
      ],
      "metadata": {
        "id": "cfZL_XSsDJvh",
        "outputId": "c7df75cd-47ae-423c-fc60-2d53bd6e726e",
        "colab": {
          "base_uri": "https://localhost:8080/"
        }
      },
      "execution_count": 3,
      "outputs": [
        {
          "output_type": "stream",
          "name": "stdout",
          "text": [
            "--2024-04-17 17:20:57--  https://storage.googleapis.com/platzi-tf2/databasesLoadData.zip\n",
            "Resolving storage.googleapis.com (storage.googleapis.com)... 142.251.162.207, 74.125.139.207, 74.125.141.207, ...\n",
            "Connecting to storage.googleapis.com (storage.googleapis.com)|142.251.162.207|:443... connected.\n",
            "HTTP request sent, awaiting response... 200 OK\n",
            "Length: 71662510 (68M) [application/zip]\n",
            "Saving to: ‘/tmp/databasesLoadData.zip’\n",
            "\n",
            "/tmp/databasesLoadD 100%[===================>]  68.34M  78.4MB/s    in 0.9s    \n",
            "\n",
            "2024-04-17 17:20:58 (78.4 MB/s) - ‘/tmp/databasesLoadData.zip’ saved [71662510/71662510]\n",
            "\n"
          ]
        }
      ]
    },
    {
      "cell_type": "code",
      "source": [
        "local_zip= \"/tmp/databasesLoadData.zip\"\n",
        "zip_ref = zipfile.ZipFile(local_zip,\"r\")\n",
        "zip_ref.extractall(\"/tmp/databasesLoadData\")\n",
        "zip_ref.close()"
      ],
      "metadata": {
        "id": "bThiEjaYFH1V"
      },
      "execution_count": 6,
      "outputs": []
    }
  ],
  "metadata": {
    "kernelspec": {
      "display_name": "Python 3",
      "language": "python",
      "name": "python3"
    },
    "language_info": {
      "codemirror_mode": {
        "name": "ipython",
        "version": 3
      },
      "file_extension": ".py",
      "mimetype": "text/x-python",
      "name": "python",
      "nbconvert_exporter": "python",
      "pygments_lexer": "ipython3",
      "version": "3.10.13"
    },
    "colab": {
      "provenance": [],
      "include_colab_link": true
    }
  },
  "nbformat": 4,
  "nbformat_minor": 0
}